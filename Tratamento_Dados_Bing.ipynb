{
  "nbformat": 4,
  "nbformat_minor": 0,
  "metadata": {
    "colab": {
      "name": "Tratamento_Dados_Bing",
      "provenance": [],
      "collapsed_sections": [],
      "authorship_tag": "ABX9TyOTMc73mXQwW1jSR7Y7vTVm",
      "include_colab_link": true
    },
    "kernelspec": {
      "name": "python3",
      "display_name": "Python 3"
    },
    "language_info": {
      "name": "python"
    }
  },
  "cells": [
    {
      "cell_type": "markdown",
      "metadata": {
        "id": "view-in-github",
        "colab_type": "text"
      },
      "source": [
        "<a href=\"https://colab.research.google.com/github/KauePetrica/HTLM5_CSS_JS/blob/master/Tratamento_Dados_Bing.ipynb\" target=\"_parent\"><img src=\"https://colab.research.google.com/assets/colab-badge.svg\" alt=\"Open In Colab\"/></a>"
      ]
    },
    {
      "cell_type": "code",
      "execution_count": null,
      "metadata": {
        "id": "u6dmrZdd3reP"
      },
      "outputs": [],
      "source": [
        "import pandas as pd"
      ]
    },
    {
      "cell_type": "code",
      "source": [
        "dados=pd.read_excel(\"Report_Diario_Datalake15_08.xlsx\")"
      ],
      "metadata": {
        "id": "OcjO_GyV4V7V"
      },
      "execution_count": null,
      "outputs": []
    },
    {
      "cell_type": "code",
      "source": [
        "dados.columns"
      ],
      "metadata": {
        "id": "u-JHev6DARU5"
      },
      "execution_count": null,
      "outputs": []
    },
    {
      "cell_type": "code",
      "source": [
        "dados.columns = ['Unidade de tempo', 'Nome da campanha', 'Tipo do anúncio', 'Grupo de anúncios',\n",
        "       'Gastos', 'Tipo de dispositivo', 'Visualizações', 'Cliques',\n",
        "       'URL Final', 'ID do anúncio']"
      ],
      "metadata": {
        "id": "8tvBefO0CGBA"
      },
      "execution_count": null,
      "outputs": []
    },
    {
      "cell_type": "code",
      "source": [
        "dados.drop('ID do anúncio', axis=1)"
      ],
      "metadata": {
        "id": "NxqxqxPgC-EP"
      },
      "execution_count": null,
      "outputs": []
    },
    {
      "cell_type": "code",
      "source": [
        "dados.drop([\"ID do anúncio\"], axis=1, inplace=True)"
      ],
      "metadata": {
        "id": "HAnqi348HYmk"
      },
      "execution_count": null,
      "outputs": []
    },
    {
      "cell_type": "code",
      "source": [
        "dados"
      ],
      "metadata": {
        "id": "DnpySNfFIV5E"
      },
      "execution_count": null,
      "outputs": []
    },
    {
      "cell_type": "code",
      "source": [
        "dados=dados"
      ],
      "metadata": {
        "id": "2kBNYXSTIaJH"
      },
      "execution_count": null,
      "outputs": []
    },
    {
      "cell_type": "code",
      "source": [
        "dados.to_excel('20220815_bing.xlsx')"
      ],
      "metadata": {
        "id": "OIm4CwSJFR9E"
      },
      "execution_count": null,
      "outputs": []
    }
  ]
}